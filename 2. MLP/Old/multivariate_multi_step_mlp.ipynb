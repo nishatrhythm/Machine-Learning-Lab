{
 "cells": [
  {
   "cell_type": "code",
   "execution_count": 3,
   "metadata": {},
   "outputs": [
    {
     "name": "stdout",
     "output_type": "stream",
     "text": [
      "\n",
      "Input-Output Pairs:\n",
      "| Input (X)                                            | Output (y)                   |\n",
      "|------------------------------------------------------|------------------------------|\n",
      "| [[100, 150, 250], [200, 250, 450], [300, 350, 650]] | [[400, 450, 850], [500, 550, 1050]] |\n",
      "| [[200, 250, 450], [300, 350, 650], [400, 450, 850]] | [[500, 550, 1050], [600, 650, 1250]] |\n",
      "| [[300, 350, 650], [400, 450, 850], [500, 550, 1050]] | [[600, 650, 1250], [700, 750, 1450]] |\n",
      "| [[400, 450, 850], [500, 550, 1050], [600, 650, 1250]] | [[700, 750, 1450], [800, 850, 1650]] |\n",
      "| [[500, 550, 1050], [600, 650, 1250], [700, 750, 1450]] | [[800, 850, 1650], [900, 950, 1850]] |\n",
      "\n",
      "Prediction:\n",
      "Given input sequence [600, 650, 1250, 700, 750, 1450, 800, 850, 1650], the predicted output is:\n",
      "Step 1: [918.9298706054688, 948.3926391601562, 1879.7791748046875]\n",
      "Step 2: [1025.9324951171875, 1073.69580078125, 2107.171630859375]\n"
     ]
    }
   ],
   "source": [
    "from numpy import array, hstack\n",
    "from keras.models import Sequential\n",
    "from keras.layers import Dense\n",
    "\n",
    "# Function to split a multivariate sequence into samples\n",
    "def split_sequences(sequences, n_steps_in, n_steps_out):\n",
    "    X, y = list(), list()\n",
    "    for i in range(len(sequences)):\n",
    "        # Find the end of this pattern\n",
    "        end_ix = i + n_steps_in\n",
    "        out_end_ix = end_ix + n_steps_out\n",
    "        # Check if we are beyond the dataset\n",
    "        if out_end_ix > len(sequences):\n",
    "            break\n",
    "        # Gather input and output parts of the pattern\n",
    "        seq_x, seq_y = sequences[i:end_ix, :], sequences[end_ix:out_end_ix, :]\n",
    "        X.append(seq_x)\n",
    "        y.append(seq_y)\n",
    "    return array(X), array(y)\n",
    "\n",
    "# Define a new multivariate dataset\n",
    "in_seq1 = array([100, 200, 300, 400, 500, 600, 700, 800, 900])\n",
    "in_seq2 = array([150, 250, 350, 450, 550, 650, 750, 850, 950])\n",
    "out_seq = array([in_seq1[i] + in_seq2[i] for i in range(len(in_seq1))])\n",
    "# Convert to [rows, columns] structure\n",
    "in_seq1 = in_seq1.reshape((len(in_seq1), 1))\n",
    "in_seq2 = in_seq2.reshape((len(in_seq2), 1))\n",
    "out_seq = out_seq.reshape((len(out_seq), 1))\n",
    "# Horizontally stack columns\n",
    "dataset = hstack((in_seq1, in_seq2, out_seq))\n",
    "# Choose a number of time steps\n",
    "n_steps_in, n_steps_out = 3, 2\n",
    "# Convert into input/output\n",
    "X, y = split_sequences(dataset, n_steps_in, n_steps_out)\n",
    "# Flatten input\n",
    "n_input = X.shape[1] * X.shape[2]\n",
    "X = X.reshape((X.shape[0], n_input))\n",
    "# Flatten output\n",
    "n_output = y.shape[1] * y.shape[2]\n",
    "y = y.reshape((y.shape[0], n_output))\n",
    "\n",
    "# Display the input-output pairs\n",
    "print(\"\\nInput-Output Pairs:\")\n",
    "print(\"| Input (X)                                            | Output (y)                   |\")\n",
    "print(\"|------------------------------------------------------|------------------------------|\")\n",
    "for i in range(len(X)):\n",
    "    input_values = X[i].reshape((n_steps_in, 3))\n",
    "    output_values = y[i].reshape((n_steps_out, 3))\n",
    "    print(f\"| {input_values.tolist()} | {output_values.tolist()} |\")\n",
    "\n",
    "# Define the model\n",
    "model = Sequential()\n",
    "model.add(Dense(100, activation='relu', input_dim=n_input))\n",
    "model.add(Dense(n_output))\n",
    "model.compile(optimizer='adam', loss='mse')\n",
    "\n",
    "# Train the model\n",
    "model.fit(X, y, epochs=2000, verbose=0)\n",
    "\n",
    "# Demonstrate prediction with new input\n",
    "x_input = array([[600, 650, 1250], [700, 750, 1450], [800, 850, 1650]])\n",
    "x_input = x_input.reshape((1, n_input))\n",
    "yhat = model.predict(x_input, verbose=0)\n",
    "\n",
    "# Display the prediction\n",
    "print(\"\\nPrediction:\")\n",
    "print(f\"Given input sequence {x_input.flatten().tolist()}, the predicted output is:\")\n",
    "predicted_values = yhat[0].reshape((n_steps_out, 3))\n",
    "for step, prediction in enumerate(predicted_values, 1):\n",
    "    print(f\"Step {step}: {prediction.tolist()}\")"
   ]
  }
 ],
 "metadata": {
  "colab": {
   "provenance": []
  },
  "kernelspec": {
   "display_name": "myenv",
   "language": "python",
   "name": "python3"
  },
  "language_info": {
   "codemirror_mode": {
    "name": "ipython",
    "version": 3
   },
   "file_extension": ".py",
   "mimetype": "text/x-python",
   "name": "python",
   "nbconvert_exporter": "python",
   "pygments_lexer": "ipython3",
   "version": "3.12.3"
  }
 },
 "nbformat": 4,
 "nbformat_minor": 0
}
