{
 "cells": [
  {
   "cell_type": "code",
   "execution_count": 3,
   "metadata": {},
   "outputs": [
    {
     "name": "stdout",
     "output_type": "stream",
     "text": [
      "\n",
      "Input-Output Pairs:\n",
      "| Input (X)  | Output (y) |\n",
      "|------------|------------|\n",
      "| [ 5 15 25] |         35 |\n",
      "| [15 25 35] |         45 |\n",
      "| [25 35 45] |         55 |\n",
      "| [35 45 55] |         65 |\n",
      "| [45 55 65] |         75 |\n",
      "| [55 65 75] |         85 |\n",
      "| [65 75 85] |         95 |\n",
      "| [75 85 95] |        105 |\n",
      "\n",
      "Prediction:\n",
      "Given input sequence [ 85  95 105], the predicted next value is 116.41\n",
      "Final training loss: 0.001249\n"
     ]
    }
   ],
   "source": [
    "from numpy import array\n",
    "from keras.models import Sequential\n",
    "from keras.layers import Dense\n",
    "\n",
    "# Function to split a univariate sequence into samples\n",
    "def split_sequence(sequence, n_steps):\n",
    "    X, y = list(), list()\n",
    "    for i in range(len(sequence)):\n",
    "        end_ix = i + n_steps\n",
    "        if end_ix > len(sequence) - 1:\n",
    "            break\n",
    "        seq_x, seq_y = sequence[i:end_ix], sequence[end_ix]\n",
    "        X.append(seq_x)\n",
    "        y.append(seq_y)\n",
    "    return array(X), array(y)\n",
    "\n",
    "# Define a new dataset\n",
    "raw_seq = [5, 15, 25, 35, 45, 55, 65, 75, 85, 95, 105]\n",
    "\n",
    "# Define the number of time steps\n",
    "n_steps = 3\n",
    "\n",
    "# Split the sequence into samples\n",
    "X, y = split_sequence(raw_seq, n_steps)\n",
    "\n",
    "# Display the input-output pairs\n",
    "print(\"\\nInput-Output Pairs:\")\n",
    "print(\"| Input (X)  | Output (y) |\")\n",
    "print(\"|------------|------------|\")\n",
    "for i in range(len(X)):\n",
    "    print(f\"| {X[i]} | {y[i]:>10} |\")\n",
    "\n",
    "# Define the model\n",
    "model = Sequential()\n",
    "model.add(Dense(100, activation='relu', input_dim=n_steps))\n",
    "model.add(Dense(1))\n",
    "model.compile(optimizer='adam', loss='mse')\n",
    "\n",
    "# Train the model\n",
    "history = model.fit(X, y, epochs=2000, verbose=0)\n",
    "\n",
    "# Make predictions on new data\n",
    "x_input = array([85, 95, 105])  # A sample sequence for prediction\n",
    "x_input = x_input.reshape((1, n_steps))\n",
    "yhat = model.predict(x_input, verbose=0)\n",
    "\n",
    "# Extract the final training loss\n",
    "final_loss = history.history['loss'][-1]\n",
    "\n",
    "# Display the prediction and loss\n",
    "print(\"\\nPrediction:\")\n",
    "print(f\"Given input sequence {x_input.flatten()}, the predicted next value is {yhat[0][0]:.2f}\")\n",
    "print(f\"Final training loss: {final_loss:.6f}\")"
   ]
  }
 ],
 "metadata": {
  "colab": {
   "provenance": []
  },
  "kernelspec": {
   "display_name": "myenv",
   "language": "python",
   "name": "python3"
  },
  "language_info": {
   "codemirror_mode": {
    "name": "ipython",
    "version": 3
   },
   "file_extension": ".py",
   "mimetype": "text/x-python",
   "name": "python",
   "nbconvert_exporter": "python",
   "pygments_lexer": "ipython3",
   "version": "3.12.3"
  }
 },
 "nbformat": 4,
 "nbformat_minor": 0
}
