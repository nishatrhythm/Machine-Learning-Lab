{
 "cells": [
  {
   "cell_type": "code",
   "execution_count": 2,
   "metadata": {},
   "outputs": [
    {
     "name": "stdout",
     "output_type": "stream",
     "text": [
      "\n",
      "Input-Output Pairs:\n",
      "| Input (X)          | Output (y)   |\n",
      "|--------------------|--------------|\n",
      "| [100 200 300] | [400 500] |\n",
      "| [200 300 400] | [500 600] |\n",
      "| [300 400 500] | [600 700] |\n",
      "| [400 500 600] | [700 800] |\n",
      "| [500 600 700] | [800 900] |\n",
      "| [600 700 800] | [ 900 1000] |\n",
      "| [700 800 900] | [1000 1100] |\n",
      "\n",
      "Prediction:\n",
      "Given input sequence [900, 1000, 1100], the predicted values are: [1198.833251953125, 1300.57763671875]\n"
     ]
    }
   ],
   "source": [
    "from numpy import array\n",
    "from keras.models import Sequential\n",
    "from keras.layers import Dense\n",
    "\n",
    "# Function to split a univariate sequence into samples\n",
    "def split_sequence(sequence, n_steps_in, n_steps_out):\n",
    "    X, y = list(), list()\n",
    "    for i in range(len(sequence)):\n",
    "        # Find the end of this pattern\n",
    "        end_ix = i + n_steps_in\n",
    "        out_end_ix = end_ix + n_steps_out\n",
    "        # Check if we are beyond the sequence\n",
    "        if out_end_ix > len(sequence):\n",
    "            break\n",
    "        # Gather input and output parts of the pattern\n",
    "        seq_x, seq_y = sequence[i:end_ix], sequence[end_ix:out_end_ix]\n",
    "        X.append(seq_x)\n",
    "        y.append(seq_y)\n",
    "    return array(X), array(y)\n",
    "\n",
    "# Define a new dataset\n",
    "raw_seq = [100, 200, 300, 400, 500, 600, 700, 800, 900, 1000, 1100]\n",
    "# Choose a number of time steps\n",
    "n_steps_in, n_steps_out = 3, 2\n",
    "# Split into samples\n",
    "X, y = split_sequence(raw_seq, n_steps_in, n_steps_out)\n",
    "\n",
    "# Display the input-output pairs\n",
    "print(\"\\nInput-Output Pairs:\")\n",
    "print(\"| Input (X)          | Output (y)   |\")\n",
    "print(\"|--------------------|--------------|\")\n",
    "for i in range(len(X)):\n",
    "    print(f\"| {X[i]} | {y[i]} |\")\n",
    "\n",
    "# Define the model\n",
    "model = Sequential()\n",
    "model.add(Dense(100, activation='relu', input_dim=n_steps_in))\n",
    "model.add(Dense(n_steps_out))\n",
    "model.compile(optimizer='adam', loss='mse')\n",
    "\n",
    "# Train the model\n",
    "model.fit(X, y, epochs=2000, verbose=0)\n",
    "\n",
    "# Demonstrate prediction with new input\n",
    "x_input = array([900, 1000, 1100])  # Example input\n",
    "x_input = x_input.reshape((1, n_steps_in))\n",
    "yhat = model.predict(x_input, verbose=0)\n",
    "\n",
    "# Display the prediction\n",
    "print(\"\\nPrediction:\")\n",
    "print(f\"Given input sequence {x_input.flatten().tolist()}, the predicted values are: {yhat[0].tolist()}\")"
   ]
  }
 ],
 "metadata": {
  "colab": {
   "provenance": []
  },
  "kernelspec": {
   "display_name": "myenv",
   "language": "python",
   "name": "python3"
  },
  "language_info": {
   "codemirror_mode": {
    "name": "ipython",
    "version": 3
   },
   "file_extension": ".py",
   "mimetype": "text/x-python",
   "name": "python",
   "nbconvert_exporter": "python",
   "pygments_lexer": "ipython3",
   "version": "3.12.3"
  }
 },
 "nbformat": 4,
 "nbformat_minor": 0
}
